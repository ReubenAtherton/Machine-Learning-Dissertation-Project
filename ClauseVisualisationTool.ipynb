{
  "nbformat": 4,
  "nbformat_minor": 0,
  "metadata": {
    "colab": {
      "provenance": [],
      "authorship_tag": "ABX9TyN3rb2Cp8p/Dw1SKL5f39AI"
    },
    "kernelspec": {
      "name": "python3",
      "display_name": "Python 3"
    },
    "language_info": {
      "name": "python"
    }
  },
  "cells": [
    {
      "cell_type": "code",
      "source": [
        "!pip install pyTsetlinMachine\n",
        "\n",
        "from google.colab import drive\n",
        "drive.mount('/content/drive')"
      ],
      "metadata": {
        "id": "EfB-SNSzaNwZ",
        "colab": {
          "base_uri": "https://localhost:8080/"
        },
        "outputId": "0139317e-fb5c-4386-d5a2-bebe9514236b"
      },
      "execution_count": null,
      "outputs": [
        {
          "output_type": "stream",
          "name": "stdout",
          "text": [
            "Looking in indexes: https://pypi.org/simple, https://us-python.pkg.dev/colab-wheels/public/simple/\n",
            "Requirement already satisfied: pyTsetlinMachine in /usr/local/lib/python3.7/dist-packages (0.6.2)\n",
            "Drive already mounted at /content/drive; to attempt to forcibly remount, call drive.mount(\"/content/drive\", force_remount=True).\n"
          ]
        }
      ]
    },
    {
      "cell_type": "markdown",
      "source": [
        "Working Model"
      ],
      "metadata": {
        "id": "y5P4hdBFiiE0"
      }
    },
    {
      "cell_type": "code",
      "source": [
        "# Interpretability\n",
        "\n",
        "from pyTsetlinMachine.tm import MultiClassTsetlinMachine\n",
        "import numpy as np\n",
        "\n",
        "number_of_features = 12\n",
        "noise = 1\n",
        "number_of_clauses = 10\n",
        "\n",
        "training_data = np.loadtxt(\"/content/drive/MyDrive/ColabNotebooks/NoisyXORTrainingData.txt\").astype(dtype=np.int32)\n",
        "test_data = np.loadtxt(\"/content/drive/MyDrive/ColabNotebooks/NoisyXORTestData.txt\").astype(dtype=np.int32)\n",
        "\n",
        "X_train = training_data[:,0:12] # Input features\n",
        "Y_train = training_data[:,12] # Target value\n",
        "\n",
        "X_test = test_data[:,0:12] # Input features\n",
        "Y_test = test_data[:,12] # Target value\n",
        "\n",
        "tm = MultiClassTsetlinMachine(number_of_clauses, 15, 3.0, boost_true_positive_feedback=0)\t\t#(number_of_clauses, T, s)\n",
        "\n",
        "tm.fit(X_train, Y_train, epochs=500)\n",
        "\n",
        "pos_clause_list0 = []\n",
        "neg_clause_list0 = []\n",
        "\n",
        "pos_clause_list1 = []\n",
        "neg_clause_list1 = []\n",
        "\n",
        "print(\"Accuracy:\", 100*(tm.predict(X_test) == Y_test).mean())\n",
        "\n",
        "print(\"\\nClass 0 Positive Clauses:\\n\")     \n",
        "\n",
        "# TEST ARRAY \n",
        "# This is the new input array that can be changed by the user where everything after the first two elements is noise\n",
        "test_array = [0,0,1,1,0,0,0,0,0,1,0,0] \n",
        "\n",
        "# range(start, stop, increment)\n",
        "# end=' ' adds the end of this string to the next print string\n",
        "\n",
        "print(\"\\nClass 0 Positive Clauses:\\n\")\t\t\t\t\t\t\t\t\t\t\t\t\t\t\t\t\t\t\t\t\t\t\t\t\t\t\t\t\t\t\t\t\t\t\t\t\t\t\t\n",
        "for j in range(0, number_of_clauses, 2):       \n",
        "\tprint(\"Clause #%d: \" % (j), end=' ')          \n",
        "\tl = []\n",
        "\tfor k in range(number_of_features*2):\n",
        "\t\tif tm.ta_action(0, j, k) == 1:\n",
        "\t\t\tif(k < number_of_features):\n",
        "\t\t\t\tl.append(\" x%d\" % (k))\n",
        "\t\t\telse:\n",
        "\t\t\t\tl.append(\"¬x%d\" % (k-number_of_features))\n",
        "\tpos_clause_list0.append(l)\t\t\t\t\t\t\t\t\t# adds each clause to a larger list of all positive clauses\n",
        "\tprint(\" ∧ \".join(l))\n",
        "\n",
        "print(\"\\nClass 0 Negative Clauses:\\n\")        # Outputting y = 1 \t# Clauses vote for the class i.e if +clauses > -clauses then y =\n",
        "for j in range(1, number_of_clauses, 2):                                        \n",
        "\tprint(\"Clause #%d: \" % (j), end=' ')\n",
        "\tl = []\n",
        "\tfor k in range(number_of_features*2):\n",
        "\t\tif tm.ta_action(0, j, k) == 1: \t\t\t\t\t\t#\t 1 = include therefore if included\n",
        "\t\t\tif k < number_of_features:\n",
        "\t\t\t\tl.append(\" x%d\" % (k))\n",
        "\t\t\telse:\n",
        "\t\t\t\tl.append(\"¬x%d\" % (k-number_of_features))\n",
        "\tneg_clause_list0.append(l)\n",
        "\tprint(\" ∧ \".join(l))\n",
        "\n",
        "print(\"\\nClass 1 Positive Clauses:\\n\")        # Outputting y = 1\n",
        "for j in range(0, number_of_clauses, 2):\n",
        "\tprint(\"Clause #%d: \" % (j), end=' ')\n",
        "\tl = []\n",
        "\tfor k in range(number_of_features*2):\n",
        "\t\tif tm.ta_action(1, j, k) == 1:\n",
        "\t\t\tif k < number_of_features:\n",
        "\t\t\t\tl.append(\" x%d\" % (k))\n",
        "\t\t\telse:\n",
        "\t\t\t\tl.append(\"¬x%d\" % (k-number_of_features))\n",
        "\tpos_clause_list1.append(l)\t\n",
        "\tprint(\" ∧ \".join(l))\n",
        "\n",
        "print(\"\\nClass 1 Negative Clauses:\\n\")\t\t\t\t# Outputting y = 0\n",
        "for j in range(1, number_of_clauses, 2):\n",
        "\tprint(\"Clause #%d: \" % (j), end=' ')\n",
        "\tl = []\n",
        "\tfor k in range(number_of_features*2):\n",
        "\t\tif tm.ta_action(1, j, k) == 1:\n",
        "\t\t\tif k < number_of_features:\n",
        "\t\t\t\tl.append(\" x%d\" % (k))\n",
        "\t\t\telse:\n",
        "\t\t\t\tl.append(\"¬x%d\" % (k-number_of_features))\n",
        "\tneg_clause_list1.append(l)\n",
        "\tprint(\" ∧ \".join(l))\n"
      ],
      "metadata": {
        "id": "YIs_9-DHI2wi",
        "colab": {
          "base_uri": "https://localhost:8080/"
        },
        "outputId": "cd3e73a2-637f-40a5-bf75-ee2a1633bf16"
      },
      "execution_count": null,
      "outputs": [
        {
          "output_type": "stream",
          "name": "stdout",
          "text": [
            "Accuracy: 100.0\n",
            "\n",
            "Class 0 Positive Clauses:\n",
            "\n",
            "\n",
            "Class 0 Positive Clauses:\n",
            "\n",
            "Clause #0:  ¬x0 ∧ ¬x1\n",
            "Clause #2:  ¬x0 ∧ ¬x1\n",
            "Clause #4:   x0 ∧  x1\n",
            "Clause #6:   x1\n",
            "Clause #8:   x0 ∧  x1\n",
            "\n",
            "Class 0 Negative Clauses:\n",
            "\n",
            "Clause #1:   x0 ∧ ¬x1\n",
            "Clause #3:   x0 ∧ ¬x1\n",
            "Clause #5:   x5 ∧ ¬x0\n",
            "Clause #7:  ¬x0\n",
            "Clause #9:   x1 ∧ ¬x0\n",
            "\n",
            "Class 1 Positive Clauses:\n",
            "\n",
            "Clause #0:   x5\n",
            "Clause #2:   x1 ∧ ¬x0\n",
            "Clause #4:   x1\n",
            "Clause #6:   x0 ∧ ¬x1\n",
            "Clause #8:  ¬x1\n",
            "\n",
            "Class 1 Negative Clauses:\n",
            "\n",
            "Clause #1:  ¬x0 ∧ ¬x1\n",
            "Clause #3:   x0 ∧  x1\n",
            "Clause #5:   x0 ∧  x1\n",
            "Clause #7:  ¬x0 ∧ ¬x1\n",
            "Clause #9:   x0 ∧  x1\n"
          ]
        }
      ]
    },
    {
      "cell_type": "code",
      "source": [
        "# shows the clauses in lists and not just printed out, this allows them to be used in the boolean logic later\n",
        "print(\"Class 0: Positive Clauses (+):\", pos_clause_list0)\n",
        "print(\"Class 0: Negative Clauses (-):\", neg_clause_list0)\n",
        "print(\"Class 1: Positive Clauses (+):\", pos_clause_list1)\n",
        "print(\"Class 1: Negative Clauses (-):\", neg_clause_list1)\n",
        "\n",
        "# breaks down the clauses per class into individual clauses as listed earlier\n",
        "C0_clause0, C0_clause2, C0_clause4, C0_clause6, C0_clause8 = pos_clause_list0   # Class 0: Positive Clauses (+)\n",
        "\n",
        "C0_clause1, C0_clause3, C0_clause5, C0_clause7, C0_clause9 = neg_clause_list0   # Class 0: Negative Clauses (-)\n",
        "\n",
        "C1_clause0, C1_clause2, C1_clause4, C1_clause6, C1_clause8 = pos_clause_list1   # Class 1: Positive Clauses (+)\n",
        "\n",
        "C1_clause1, C1_clause3, C1_clause5, C1_clause7, C1_clause9 = neg_clause_list1   # Class 1: Negative Clauses (-)\n",
        "\n",
        "#For example ---\n",
        "print(\"\\nAn example of a single clause within the list --- Class 1: Negative Clause: 3\", C1_clause3)"
      ],
      "metadata": {
        "colab": {
          "base_uri": "https://localhost:8080/"
        },
        "id": "6S5pTg1rNJTd",
        "outputId": "909c11ee-6f8a-4ae8-f414-edab2e654907"
      },
      "execution_count": null,
      "outputs": [
        {
          "output_type": "stream",
          "name": "stdout",
          "text": [
            "Class 0: Positive Clauses (+): [['¬x0', '¬x1'], ['¬x0', '¬x1'], [' x0', ' x1'], [' x1'], [' x0', ' x1']]\n",
            "Class 0: Negative Clauses (-): [[' x0', '¬x1'], [' x0', '¬x1'], [' x5', '¬x0'], ['¬x0'], [' x1', '¬x0']]\n",
            "Class 1: Positive Clauses (+): [[' x5'], [' x1', '¬x0'], [' x1'], [' x0', '¬x1'], ['¬x1']]\n",
            "Class 1: Negative Clauses (-): [['¬x0', '¬x1'], [' x0', ' x1'], [' x0', ' x1'], ['¬x0', '¬x1'], [' x0', ' x1']]\n",
            "\n",
            "An example of a single clause within the list --- Class 1: Negative Clause: 3 [' x0', ' x1']\n"
          ]
        }
      ]
    },
    {
      "cell_type": "code",
      "source": [
        "# The function that parses the clause lists and checks them against the test input array\n",
        "def printToVar(clauseArray, inputArray):\n",
        "    clauseValue = 0\n",
        "\n",
        "    for items in clauseArray:\n",
        "\n",
        "      # If there are 3 features per clause\n",
        "      if len(items) == 3:             # This is when the clause contains 3 features  \n",
        "        def1 = ''.join(items[0])      # converts the list to strings i.e each feature is turned into a string\n",
        "        def2 = ''.join(items[1])\n",
        "        def3 = ''.join(items[2])\n",
        "\n",
        "        location1 = int(def1[-1:])    # Gets the location of the feature within test input array by isolating the number included in the string at index [-1]\n",
        "        location2 = int(def2[-1:])\n",
        "        location3 = int(def3[-1:])\n",
        "\n",
        "        value1 = inputArray[location1]    # Gets the 1 or 0 value from the test input array at the location of the feature included in the clause to perform boolean logic\n",
        "        value2 = inputArray[location2]\n",
        "        value3 = inputArray[location3]\n",
        "\n",
        "        if def1[0] == '¬':                # If there is a negated sign in front of the feature then the negation function is applied\n",
        "          value1 = negation(value1)\n",
        "\n",
        "        if def2[0] == '¬':\n",
        "          value2 = negation(value2)\n",
        "\n",
        "        if def3[0] == '¬':\n",
        "          value3 = negation(value3)\n",
        "\n",
        "        valueToReturn = value1&value2&value3      # Returns the ANDed value of the 1's or 0's included in the clause \n",
        "        clauseValue = clauseValue + valueToReturn       # Returns the sum of all the clause values \n",
        "\n",
        "      # If there are 2 features per clause\n",
        "      if len(items) == 2:\n",
        "        def1 = ''.join(items[0])\n",
        "        def2 = ''.join(items[1])\n",
        "\n",
        "        location1 = int(def1[-1:])\n",
        "        location2 = int(def2[-1:])\n",
        "\n",
        "        value1 = inputArray[location1]\n",
        "        value2 = inputArray[location2]\n",
        "\n",
        "        if def1[0] == '¬':\n",
        "          value1 = negation(value1)\n",
        "\n",
        "        if def2[0] == '¬':\n",
        "          value2 = negation(value2)\n",
        "\n",
        "        valueToReturn = value1&value2\n",
        "        clauseValue = clauseValue + valueToReturn\n",
        "\n",
        "        # if there is 1 feature per clause\n",
        "        if len(items) == 1:\n",
        "          value = ''.join(items)\n",
        "\n",
        "          if value[0] == '¬':\n",
        "            location = ''.join(items)\n",
        "            intlocation = int(location[-1:])\n",
        "            negatedVal = negation(inputArray[intlocation])\n",
        "            clauseValue = clauseValue + negatedVal\n",
        "\n",
        "          if value[0] != '':\n",
        "            location = ''.join(items)\n",
        "            intlocation = int(location[-1:])\n",
        "            clauseValue = clauseValue + inputArray[intlocation]\n",
        "\n",
        "    return clauseValue\n",
        "\n",
        "# Inversion function acting in any case of '¬' negation \n",
        "def negation(var):\n",
        "    if var == 0:\n",
        "      new_var = 1\n",
        "    elif var == 1:\n",
        "      new_var = 0\n",
        "\n",
        "    return new_var"
      ],
      "metadata": {
        "id": "DTa0iePnB-t7"
      },
      "execution_count": null,
      "outputs": []
    },
    {
      "cell_type": "code",
      "source": [
        "return_pos_clause_list0 =printToVar(pos_clause_list0, test_array)\n",
        "return_neg_clause_list0 =printToVar(neg_clause_list0, test_array)\n",
        "return_pos_clause_list1 =printToVar(pos_clause_list1, test_array)\n",
        "return_neg_clause_list1 =printToVar(neg_clause_list1, test_array)\n",
        "\n",
        "def assign_negative_polarity(clause_list):    # Assigns a negative sign to the negative clauses\n",
        "  return clause_list*(-1)\n",
        "\n",
        "def clause_summation(positive_clause_value, negative_clause_value):\n",
        "  class_sum = positive_clause_value - negative_clause_value\n",
        "  return class_sum\n",
        "\n",
        "class0_sum = clause_summation(return_pos_clause_list0, return_neg_clause_list0)\n",
        "class1_sum = clause_summation(return_pos_clause_list1, return_neg_clause_list1)\n",
        "\n",
        "print(\"Class 0\\t- Positive:\\t\", return_pos_clause_list0, \"\\n\")\n",
        "print(\"\\t- Negative:\\t\", (-1)*return_neg_clause_list0, \"\\n\")\n",
        "print(\"\\t- SUM:\\t\\t\", class0_sum, \"\\n\")\n",
        "print(\"Class 1\\t- Positive:\\t\", return_pos_clause_list1, \"\\n\")\n",
        "print(\"\\t- Negative:\\t\", (-1)*return_neg_clause_list1, \"\\n\")\n",
        "print(\"\\t- SUM:\\t\\t\", class1_sum, \"\\n\")\n",
        "\n"
      ],
      "metadata": {
        "colab": {
          "base_uri": "https://localhost:8080/"
        },
        "id": "d6FddTApB9zE",
        "outputId": "59c780b0-5b1d-49ea-a3f9-e02d84692a0d"
      },
      "execution_count": null,
      "outputs": [
        {
          "output_type": "stream",
          "name": "stdout",
          "text": [
            "Class 0\t- Positive:\t 2 \n",
            "\n",
            "\t- Negative:\t 0 \n",
            "\n",
            "\t- SUM:\t\t 2 \n",
            "\n",
            "Class 1\t- Positive:\t 0 \n",
            "\n",
            "\t- Negative:\t -2 \n",
            "\n",
            "\t- SUM:\t\t -2 \n",
            "\n"
          ]
        }
      ]
    },
    {
      "cell_type": "code",
      "source": [
        "import math\n",
        "from matplotlib import pyplot as plt\n",
        "\n",
        "x = range(2)\n",
        "negative_data = [-1*return_neg_clause_list0, -1*return_neg_clause_list1]\n",
        "positive_data = [return_pos_clause_list0, return_pos_clause_list1]\n",
        "\n",
        "fig = plt.figure()\n",
        "ax = plt.subplot(111)\n",
        "ax.bar(x, negative_data, width=1, align='center', color='b')\n",
        "ax.bar(x, positive_data, width=1, align='center', color='b')\n",
        "\n",
        "\n",
        "ax.set_ylabel('Class Sum')\n",
        "ax.set_xlabel('Classes')\n",
        "\n",
        "x = [0, 1]\n",
        "y = [-3, -2, -1, 0, 1, 2, 3]\n",
        "\n",
        "default_x_ticks = range(len(x))\n",
        "default_y_ticks = range(len(y))\n",
        "\n",
        "plt.xticks(default_x_ticks, x)\n",
        "\n",
        "plt.ylim(-3, 3)"
      ],
      "metadata": {
        "colab": {
          "base_uri": "https://localhost:8080/",
          "height": 300
        },
        "id": "Z9fvTCrFgpah",
        "outputId": "b85e3d70-c1fa-44e1-c9f4-662ee653f008"
      },
      "execution_count": null,
      "outputs": [
        {
          "output_type": "execute_result",
          "data": {
            "text/plain": [
              "(-3.0, 3.0)"
            ]
          },
          "metadata": {},
          "execution_count": 18
        },
        {
          "output_type": "display_data",
          "data": {
            "text/plain": [
              "<Figure size 432x288 with 1 Axes>"
            ],
            "image/png": "[encoded data removed]"
          },
          "metadata": {
            "needs_background": "light"
          }
        }
      ]
    }
  ]
}